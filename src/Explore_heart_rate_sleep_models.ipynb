{
 "cells": [
  {
   "cell_type": "code",
   "execution_count": 8,
   "metadata": {},
   "outputs": [],
   "source": [
    "\"\"\"\n",
    "This notebook comes after Initial_Heart_Rate_Investigations.\n",
    "It takes in data that has already been formatted in format_data.py\n",
    "\"\"\"\n",
    "\n",
    "import sys\n",
    "\n",
    "import pandas as pd\n",
    "import tensorflow as tf\n",
    "import tensorflow_probability as tfp\n",
    "\n",
    "sys.path.append(\"/Users/kmcmanus/Documents/classes/algorithm_practice/weather_data_explorations/src\")\n",
    "from baum_welch_alg import BaumWelch"
   ]
  },
  {
   "cell_type": "code",
   "execution_count": 9,
   "metadata": {},
   "outputs": [
    {
     "data": {
      "text/html": [
       "<div>\n",
       "<style scoped>\n",
       "    .dataframe tbody tr th:only-of-type {\n",
       "        vertical-align: middle;\n",
       "    }\n",
       "\n",
       "    .dataframe tbody tr th {\n",
       "        vertical-align: top;\n",
       "    }\n",
       "\n",
       "    .dataframe thead th {\n",
       "        text-align: right;\n",
       "    }\n",
       "</style>\n",
       "<table border=\"1\" class=\"dataframe\">\n",
       "  <thead>\n",
       "    <tr style=\"text-align: right;\">\n",
       "      <th></th>\n",
       "      <th>bpm</th>\n",
       "      <th>confidence</th>\n",
       "      <th>datetime</th>\n",
       "      <th>fb_sleep</th>\n",
       "    </tr>\n",
       "  </thead>\n",
       "  <tbody>\n",
       "    <tr>\n",
       "      <th>2020-01-12 16:06:38</th>\n",
       "      <td>70</td>\n",
       "      <td>0</td>\n",
       "      <td>2020-01-12 16:06:38</td>\n",
       "      <td>1</td>\n",
       "    </tr>\n",
       "    <tr>\n",
       "      <th>2020-01-12 16:06:48</th>\n",
       "      <td>70</td>\n",
       "      <td>1</td>\n",
       "      <td>2020-01-12 16:06:48</td>\n",
       "      <td>1</td>\n",
       "    </tr>\n",
       "    <tr>\n",
       "      <th>2020-01-12 16:07:03</th>\n",
       "      <td>70</td>\n",
       "      <td>1</td>\n",
       "      <td>2020-01-12 16:07:03</td>\n",
       "      <td>1</td>\n",
       "    </tr>\n",
       "    <tr>\n",
       "      <th>2020-01-12 16:07:08</th>\n",
       "      <td>71</td>\n",
       "      <td>1</td>\n",
       "      <td>2020-01-12 16:07:08</td>\n",
       "      <td>1</td>\n",
       "    </tr>\n",
       "    <tr>\n",
       "      <th>2020-01-12 16:07:18</th>\n",
       "      <td>73</td>\n",
       "      <td>1</td>\n",
       "      <td>2020-01-12 16:07:18</td>\n",
       "      <td>1</td>\n",
       "    </tr>\n",
       "  </tbody>\n",
       "</table>\n",
       "</div>"
      ],
      "text/plain": [
       "                     bpm  confidence             datetime  fb_sleep\n",
       "2020-01-12 16:06:38   70           0  2020-01-12 16:06:38         1\n",
       "2020-01-12 16:06:48   70           1  2020-01-12 16:06:48         1\n",
       "2020-01-12 16:07:03   70           1  2020-01-12 16:07:03         1\n",
       "2020-01-12 16:07:08   71           1  2020-01-12 16:07:08         1\n",
       "2020-01-12 16:07:18   73           1  2020-01-12 16:07:18         1"
      ]
     },
     "execution_count": 9,
     "metadata": {},
     "output_type": "execute_result"
    }
   ],
   "source": [
    "fn = \"/Users/kmcmanus/Documents/classes/digitalhealth_project/data/formatted_data/20200308_hr_sleep.csv\"\n",
    "df = pd.read_csv(fn, index_col=0)\n",
    "df.head()"
   ]
  },
  {
   "cell_type": "code",
   "execution_count": 10,
   "metadata": {},
   "outputs": [
    {
     "name": "stdout",
     "output_type": "stream",
     "text": [
      "441384\n",
      "WARNING:tensorflow:From /Users/kmcmanus/Documents/classes/algorithm_practice/weather_data_explorations/src/baum_welch_alg.py:42: Categorical.num_categories (from tensorflow_probability.python.distributions.categorical) is deprecated and will be removed after 2019-10-01.\n",
      "Instructions for updating:\n",
      "The `num_categories` property is deprecated.  Use `tf.shape(self.probs if self.logits is None else self.logits)[-1]` instead.\n"
     ]
    }
   ],
   "source": [
    "# Run my own Baum Welch algorithm on this.\n",
    "observations = tf.constant(df['bpm'].iloc[0:5000], dtype=tf.float32, name='observation_sequence')\n",
    "num_steps = len(observations)\n",
    "print(num_steps)\n",
    "\n",
    "tfd = tfp.distributions\n",
    "initial_distribution = tfd.Categorical(probs=[0.66, 0.33])\n",
    "\n",
    "transition_distribution = tfd.Categorical(probs=[[0.9, 0.1],\n",
    "                                                 [0.1, 0.9]])\n",
    "\n",
    "observation_distribution = tfd.Normal(loc=[63., 80.], scale=[3., 10.])\n",
    "\n",
    "model = BaumWelch(initial_distribution=initial_distribution,\n",
    "                  observation_distribution=observation_distribution,\n",
    "                  transition_distribution=transition_distribution,\n",
    "                  num_steps=num_steps,\n",
    "                  epsilon=0.02,\n",
    "                  maxStep=50,\n",
    "                  log_dir='.')"
   ]
  },
  {
   "cell_type": "code",
   "execution_count": null,
   "metadata": {},
   "outputs": [
    {
     "name": "stdout",
     "output_type": "stream",
     "text": [
      "NEW T0\n",
      "tf.Tensor([0.11920291 0.880797  ], shape=(2,), dtype=float32)\n",
      "NEW TRANSITION\n",
      "tf.Tensor(\n",
      "[[9.994629e-01 5.370895e-04]\n",
      " [9.758372e-02 9.024163e-01]], shape=(2, 2), dtype=float32)\n",
      "NEW EMISSION\n",
      "means tf.Tensor(inf, shape=(), dtype=float32)\n",
      "tf.Tensor([inf inf], shape=(2,), dtype=float32)\n",
      "tf.Tensor([nan nan], shape=(2,), dtype=float32)\n",
      "tf.Tensor(1.6690817, shape=(), dtype=float32)\n"
     ]
    }
   ],
   "source": [
    "initial_dist, trans_dist, observ_dist = model.run_Baum_Welch_EM(observations, summary=False, monitor_state_1=True)"
   ]
  }
 ],
 "metadata": {
  "kernelspec": {
   "display_name": "Python 3",
   "language": "python",
   "name": "python3"
  },
  "language_info": {
   "codemirror_mode": {
    "name": "ipython",
    "version": 3
   },
   "file_extension": ".py",
   "mimetype": "text/x-python",
   "name": "python",
   "nbconvert_exporter": "python",
   "pygments_lexer": "ipython3",
   "version": "3.7.3"
  }
 },
 "nbformat": 4,
 "nbformat_minor": 2
}
